{
 "cells": [
  {
   "cell_type": "code",
   "execution_count": 1,
   "id": "cd6add43-65da-43f4-bb36-aa2ad324c0a8",
   "metadata": {},
   "outputs": [],
   "source": [
    "import pandas as pd"
   ]
  },
  {
   "cell_type": "code",
   "execution_count": 4,
   "id": "9966e200-086b-40cb-9613-60aafd40e4d9",
   "metadata": {},
   "outputs": [],
   "source": [
    "data = {'data' : [4,8,15,16,23,42]}"
   ]
  },
  {
   "cell_type": "code",
   "execution_count": 5,
   "id": "7fe86b65-1f4c-4442-a0d6-708cb2fc14c8",
   "metadata": {},
   "outputs": [],
   "source": [
    "df = pd.DataFrame(data)"
   ]
  },
  {
   "cell_type": "code",
   "execution_count": 6,
   "id": "da126908-21b5-4076-a80b-aa73c616feec",
   "metadata": {},
   "outputs": [
    {
     "data": {
      "text/html": [
       "<div>\n",
       "<style scoped>\n",
       "    .dataframe tbody tr th:only-of-type {\n",
       "        vertical-align: middle;\n",
       "    }\n",
       "\n",
       "    .dataframe tbody tr th {\n",
       "        vertical-align: top;\n",
       "    }\n",
       "\n",
       "    .dataframe thead th {\n",
       "        text-align: right;\n",
       "    }\n",
       "</style>\n",
       "<table border=\"1\" class=\"dataframe\">\n",
       "  <thead>\n",
       "    <tr style=\"text-align: right;\">\n",
       "      <th></th>\n",
       "      <th>data</th>\n",
       "    </tr>\n",
       "  </thead>\n",
       "  <tbody>\n",
       "    <tr>\n",
       "      <th>0</th>\n",
       "      <td>4</td>\n",
       "    </tr>\n",
       "    <tr>\n",
       "      <th>1</th>\n",
       "      <td>8</td>\n",
       "    </tr>\n",
       "    <tr>\n",
       "      <th>2</th>\n",
       "      <td>15</td>\n",
       "    </tr>\n",
       "    <tr>\n",
       "      <th>3</th>\n",
       "      <td>16</td>\n",
       "    </tr>\n",
       "    <tr>\n",
       "      <th>4</th>\n",
       "      <td>23</td>\n",
       "    </tr>\n",
       "    <tr>\n",
       "      <th>5</th>\n",
       "      <td>42</td>\n",
       "    </tr>\n",
       "  </tbody>\n",
       "</table>\n",
       "</div>"
      ],
      "text/plain": [
       "   data\n",
       "0     4\n",
       "1     8\n",
       "2    15\n",
       "3    16\n",
       "4    23\n",
       "5    42"
      ]
     },
     "execution_count": 6,
     "metadata": {},
     "output_type": "execute_result"
    }
   ],
   "source": [
    "df"
   ]
  },
  {
   "cell_type": "markdown",
   "id": "2e2c00bb-f56d-4afe-844f-d24b5857a78d",
   "metadata": {},
   "source": [
    "Q2. Create a variable of list type containing 10 elements in it, and apply pandas.Series function on the\n",
    "variable print it.\n"
   ]
  },
  {
   "cell_type": "code",
   "execution_count": 7,
   "id": "5d646059-e2be-42bd-8153-cbd05ac2acae",
   "metadata": {},
   "outputs": [],
   "source": [
    "my_list = [i for i in range(1,11)]"
   ]
  },
  {
   "cell_type": "code",
   "execution_count": 8,
   "id": "5c7d3401-7d43-489f-b763-53fcaee13f58",
   "metadata": {},
   "outputs": [],
   "source": [
    "my_series = pd.Series(my_list)\n"
   ]
  },
  {
   "cell_type": "code",
   "execution_count": 9,
   "id": "110244e3-df25-41a3-80aa-de71847f61d6",
   "metadata": {},
   "outputs": [
    {
     "data": {
      "text/plain": [
       "0     1\n",
       "1     2\n",
       "2     3\n",
       "3     4\n",
       "4     5\n",
       "5     6\n",
       "6     7\n",
       "7     8\n",
       "8     9\n",
       "9    10\n",
       "dtype: int64"
      ]
     },
     "execution_count": 9,
     "metadata": {},
     "output_type": "execute_result"
    }
   ],
   "source": [
    "my_series"
   ]
  },
  {
   "cell_type": "markdown",
   "id": "f321e558-ab3e-4c7b-b1ab-d5f757f833df",
   "metadata": {},
   "source": [
    "Q3. Create a Pandas DataFrame that contains the following data:"
   ]
  },
  {
   "cell_type": "code",
   "execution_count": 2,
   "id": "1a061e6b-31cf-435d-8a60-3a4ac71e2f60",
   "metadata": {},
   "outputs": [],
   "source": [
    "data = {'Name' : ['Alice','Bob','Claire'],'Age' : [25,30,27],'Gender' : ['Female','Male','Female'] }"
   ]
  },
  {
   "cell_type": "code",
   "execution_count": 15,
   "id": "2fe99ec4-2d8c-4ceb-baf0-84852fe58a80",
   "metadata": {},
   "outputs": [],
   "source": [
    "df2 = pd.DataFrame(data)"
   ]
  },
  {
   "cell_type": "code",
   "execution_count": 16,
   "id": "e774a1fa-fcc9-41e3-9455-7a83bec6d5f8",
   "metadata": {},
   "outputs": [
    {
     "data": {
      "text/html": [
       "<div>\n",
       "<style scoped>\n",
       "    .dataframe tbody tr th:only-of-type {\n",
       "        vertical-align: middle;\n",
       "    }\n",
       "\n",
       "    .dataframe tbody tr th {\n",
       "        vertical-align: top;\n",
       "    }\n",
       "\n",
       "    .dataframe thead th {\n",
       "        text-align: right;\n",
       "    }\n",
       "</style>\n",
       "<table border=\"1\" class=\"dataframe\">\n",
       "  <thead>\n",
       "    <tr style=\"text-align: right;\">\n",
       "      <th></th>\n",
       "      <th>Name</th>\n",
       "      <th>Age</th>\n",
       "      <th>Gender</th>\n",
       "    </tr>\n",
       "  </thead>\n",
       "  <tbody>\n",
       "    <tr>\n",
       "      <th>0</th>\n",
       "      <td>Alice</td>\n",
       "      <td>25</td>\n",
       "      <td>Female</td>\n",
       "    </tr>\n",
       "    <tr>\n",
       "      <th>1</th>\n",
       "      <td>Bob</td>\n",
       "      <td>30</td>\n",
       "      <td>Male</td>\n",
       "    </tr>\n",
       "    <tr>\n",
       "      <th>2</th>\n",
       "      <td>Claire</td>\n",
       "      <td>27</td>\n",
       "      <td>Female</td>\n",
       "    </tr>\n",
       "  </tbody>\n",
       "</table>\n",
       "</div>"
      ],
      "text/plain": [
       "     Name  Age  Gender\n",
       "0   Alice   25  Female\n",
       "1     Bob   30    Male\n",
       "2  Claire   27  Female"
      ]
     },
     "execution_count": 16,
     "metadata": {},
     "output_type": "execute_result"
    }
   ],
   "source": [
    "df2"
   ]
  },
  {
   "cell_type": "markdown",
   "id": "4dbeb52d-8636-414d-af05-85087a6d6458",
   "metadata": {},
   "source": [
    "Q4. What is ‘DataFrame’ in pandas and how is it different from pandas.series? Explain with an example."
   ]
  },
  {
   "cell_type": "markdown",
   "id": "4d36cdc8-a75a-495d-846e-c8efb5efe38a",
   "metadata": {},
   "source": [
    "ANSER: In Pandas, a DataFrame is a 2-dimensional labeled data structure with columns of potentially different types. It is the most commonly used Pandas object and can be thought of as a table, spreadsheet or a SQL table. It has both row and column labels, and it allows us to store and manipulate data in an easy and efficient way.\n",
    "\n",
    "On the other hand, a Pandas Series is a one-dimensional labeled array that can hold data of any type. It is similar to a column in a spreadsheet or a SQL table. Each element in a Series has a label called an index, which can be used to access the element.\n",
    "\n",
    "The main difference between a DataFrame and a Series is that a DataFrame can store multiple columns of data, whereas a Series can store only a single column of data.\n",
    "\n",
    "Here's an example to illustrate the difference between a DataFrame and a Series:"
   ]
  },
  {
   "cell_type": "code",
   "execution_count": 18,
   "id": "41a3b9a5-929b-4ea8-bba7-0a5fe4296b63",
   "metadata": {},
   "outputs": [
    {
     "data": {
      "text/plain": [
       "0    1\n",
       "1    2\n",
       "2    3\n",
       "3    4\n",
       "4    5\n",
       "dtype: int64"
      ]
     },
     "execution_count": 18,
     "metadata": {},
     "output_type": "execute_result"
    }
   ],
   "source": [
    "#Creating a panda seies object\n",
    "m_series = pd.Series([1,2,3,4,5])\n",
    "m_series"
   ]
  },
  {
   "cell_type": "code",
   "execution_count": 19,
   "id": "61703b51-f98d-4c61-9826-a8482bb2ed77",
   "metadata": {},
   "outputs": [],
   "source": [
    "#creating a pandaas dataframe object\n",
    "data = {'Name' : ['Alice','Bob','Claire'],'Age' : [25,30,27],'Gender' : ['Female','Male','Female'] }\n",
    "dff = pd.DataFrame(data)"
   ]
  },
  {
   "cell_type": "code",
   "execution_count": 20,
   "id": "bfc340da-18dd-454f-a955-a79be7da3eca",
   "metadata": {},
   "outputs": [
    {
     "name": "stdout",
     "output_type": "stream",
     "text": [
      "     Name  Age  Gender\n",
      "0   Alice   25  Female\n",
      "1     Bob   30    Male\n",
      "2  Claire   27  Female\n"
     ]
    }
   ],
   "source": [
    "print(dff)"
   ]
  },
  {
   "cell_type": "markdown",
   "id": "8904f8bd-950b-44d7-8968-e689da758535",
   "metadata": {},
   "source": [
    "Q5. What are some common functions you can use to manipulate data in a Pandas DataFrame? Can\n",
    "you give an example of when you might use one of these functions?"
   ]
  },
  {
   "cell_type": "markdown",
   "id": "0740ff07-e288-4f90-ac19-73f733489bfc",
   "metadata": {},
   "source": [
    "ANSWER : drop(): This function is used to remove a column or row from a DataFrame.\n",
    "\n",
    "fillna(): This function is used to fill in missing values in a DataFrame with a specified value or method, such as the mean or median.\n",
    "\n",
    "groupby(): This function is used to group the data in a DataFrame by one or more columns and perform aggregate functions on each group."
   ]
  },
  {
   "cell_type": "code",
   "execution_count": 22,
   "id": "47b98582-b7e7-4181-be18-a61228010755",
   "metadata": {},
   "outputs": [
    {
     "name": "stdout",
     "output_type": "stream",
     "text": [
      "Gender\n",
      "F    175.000000\n",
      "M    216.666667\n",
      "Name: Purchases, dtype: float64\n"
     ]
    }
   ],
   "source": [
    "#using groupby function with mean \n",
    "\n",
    "customer_data = pd.DataFrame({\n",
    "    'Gender': ['M', 'F', 'F', 'M', 'M'],\n",
    "    'Age': [25, 30, 35, 40, 45],\n",
    "    'Purchases': [100, 200, 150, 300, 250]\n",
    "})\n",
    "\n",
    "# Group the customers by gender and calculate the average purchases\n",
    "gender_grouped = customer_data.groupby('Gender')['Purchases'].mean()\n",
    "\n",
    "# Print the results\n",
    "print(gender_grouped)"
   ]
  },
  {
   "cell_type": "markdown",
   "id": "f083f177-d838-4b06-b8ae-2f277db501e9",
   "metadata": {},
   "source": [
    "Q6. Which of the following is mutable in nature Series, DataFrame, Panel?"
   ]
  },
  {
   "cell_type": "markdown",
   "id": "18a18b0b-904b-4cb0-9137-d754c8d632b1",
   "metadata": {},
   "source": [
    "Both Series and DataFrame are mutable in nature, while Panel is considered deprecated in pandas version 0.25.0 and later, and it is recommended to use MultiIndex objects to represent higher-dimensional data instead."
   ]
  },
  {
   "cell_type": "markdown",
   "id": "33edd45e-ca36-4c7e-b27b-4d17c5d02e77",
   "metadata": {},
   "source": [
    "Q7. Create a DataFrame using multiple Series. Explain with an example."
   ]
  },
  {
   "cell_type": "code",
   "execution_count": 34,
   "id": "c87255fa-eb03-4aef-aadb-0722eac3da45",
   "metadata": {},
   "outputs": [
    {
     "name": "stdout",
     "output_type": "stream",
     "text": [
      "     Name  Roll_no     fee\n",
      "0  Shadab      101   90000\n",
      "1     Raj      103   85000\n",
      "2     Sam      125  125000\n"
     ]
    }
   ],
   "source": [
    "name = pd.Series([\"Shadab\",\"Raj\",\"Sam\"],name = \"Name\")\n",
    "roll_no = pd.Series([101,103,125],name = \"Roll_no\")\n",
    "fees = pd.Series([90000,85000,125000],name = \"fee\")\n",
    "\n",
    "df3 = pd.concat([name,roll_no,fees],axis = 1)\n",
    "print(df3)"
   ]
  },
  {
   "cell_type": "raw",
   "id": "79883c0b-2359-4abb-a3ee-d1429516b0ed",
   "metadata": {},
   "source": [
    "NOTE : axis=1 to specify merge series as columns instead of rows, using axis=0 appends series to rows instead of columns."
   ]
  },
  {
   "cell_type": "raw",
   "id": "71a353c1-33c4-4a71-80f2-ec2366d0df10",
   "metadata": {},
   "source": [
    "In this example, we first create three separate Series objects called \"name\", \"roll_no\", and \"fees\" that contain some data. We then pass these Series objects to the DataFrame constructor as a dictionary, with the keys being the column names and the values being the Series objects. Finally, we assign the resulting DataFrame to the variable \"df\" and display it using the \"print\" function. The resulting DataFrame has three columns called  \"Name\", \"Roll_no\", and \"Fees\", and four rows of data."
   ]
  },
  {
   "cell_type": "code",
   "execution_count": null,
   "id": "edfb6c09-ae8c-4d52-b230-55b508bd5204",
   "metadata": {},
   "outputs": [],
   "source": []
  }
 ],
 "metadata": {
  "kernelspec": {
   "display_name": "Python 3 (ipykernel)",
   "language": "python",
   "name": "python3"
  },
  "language_info": {
   "codemirror_mode": {
    "name": "ipython",
    "version": 3
   },
   "file_extension": ".py",
   "mimetype": "text/x-python",
   "name": "python",
   "nbconvert_exporter": "python",
   "pygments_lexer": "ipython3",
   "version": "3.10.8"
  }
 },
 "nbformat": 4,
 "nbformat_minor": 5
}
